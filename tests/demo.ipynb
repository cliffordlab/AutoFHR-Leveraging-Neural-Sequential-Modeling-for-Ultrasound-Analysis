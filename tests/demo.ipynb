{
 "cells": [
  {
   "cell_type": "markdown",
   "metadata": {},
   "source": [
    "# Doppler Ultrasound Signal Analysis\n",
    "\n",
    "This notebook demonstrates processing and visualization of Doppler Ultrasound (DUS) signals for fetal heart rate analysis."
   ]
  },
  {
   "cell_type": "code",
   "execution_count": 2,
   "metadata": {},
   "outputs": [],
   "source": [
    "import numpy as np\n",
    "import matplotlib.pyplot as plt\n",
    "import os\n",
    "import scipy.io.wavfile as wavfile\n",
    "import pywt\n",
    "from IPython.display import Audio\n",
    "import sys\n",
    "\n",
    "# Add project root to path to import project modules\n",
    "sys.path.append(os.path.abspath(os.path.join(os.getcwd(), '../..')))\n",
    "from AutoFHR.src.utils.visualization import plot_scalogram, play_audio\n",
    "from AutoFHR.src.utils.signal_processing import normalize, signal_resample, butter_bandpass_filter, DUS_filtering, create_scalogram\n",
    "\n",
    "# Set some plotting defaults\n",
    "plt.style.use('seaborn-v0_8-whitegrid')\n",
    "plt.rcParams['figure.figsize'] = (12, 6)\n",
    "plt.rcParams['font.size'] = 12"
   ]
  },
  {
   "cell_type": "markdown",
   "metadata": {},
   "source": [
    "## Loading and Playing WAV Files\n",
    "\n",
    "Load the sample WAV files and play them."
   ]
  },
  {
   "cell_type": "code",
   "execution_count": null,
   "metadata": {},
   "outputs": [],
   "source": [
    "# List all WAV files and output of the model if exists in the data directory\n",
    "data_dir = \"data\"\n",
    "wav_files = [f for f in os.listdir(data_dir) if f.endswith('.wav')]\n",
    "npy_files = [f for f in os.listdir(data_dir) if f.endswith('.npy')]\n",
    "print(f\"Found {len(wav_files)} WAV files:\")\n",
    "for file in wav_files:\n",
    "    print(f\"- {file}\")\n",
    "print(f\"\\nFound {len(npy_files)} npy files:\")\n",
    "for file in npy_files:\n",
    "    print(f\"- {file}\")"
   ]
  },
  {
   "cell_type": "code",
   "execution_count": 6,
   "metadata": {},
   "outputs": [],
   "source": [
    "# Function to load WAV file and return rate and data\n",
    "def load_wav_file(file_path):\n",
    "    \"\"\"Load a WAV file and return sample rate and data\"\"\"\n",
    "    try:\n",
    "        sample_rate, data = wavfile.read(file_path)\n",
    "        print(f\"Loaded {file_path}\")\n",
    "        print(f\"Sample rate: {sample_rate} Hz\")\n",
    "        print(f\"Data shape: {data.shape}\")\n",
    "        print(f\"Duration: {data.shape[0]/sample_rate:.2f} seconds\")\n",
    "        return sample_rate, data\n",
    "    except Exception as e:\n",
    "        print(f\"Error loading {file_path}: {e}\")\n",
    "        return None, None"
   ]
  },
  {
   "cell_type": "code",
   "execution_count": null,
   "metadata": {},
   "outputs": [],
   "source": [
    "# Load and play the first WAV file\n",
    "if len(wav_files) > 0:\n",
    "    file_path = os.path.join(data_dir, wav_files[-1])\n",
    "    fs, dus_data = load_wav_file(file_path)\n",
    "    \n",
    "    # Convert to mono if stereo\n",
    "    if len(dus_data.shape) > 1 and dus_data.shape[1] > 1:\n",
    "        dus_data = dus_data[:, 0] \n",
    "    \n",
    "    # Normalize data for better playback\n",
    "    dus_data_norm = normalize(dus_data)\n",
    "    \n",
    "    # Play the audio\n",
    "    print(\"\\nPlaying original audio:\")\n",
    "    play_audio(file_path)"
   ]
  },
  {
   "cell_type": "markdown",
   "metadata": {},
   "source": [
    "## Signal Processing\n",
    "\n",
    "Let's process the DUS signal using basic filtering and normalization."
   ]
  },
  {
   "cell_type": "code",
   "execution_count": null,
   "metadata": {},
   "outputs": [],
   "source": [
    "# Apply filtering to the DUS signal\n",
    "if 'dus_data' in locals() and dus_data is not None:\n",
    "    fs_t = 4000\n",
    "    dus_filtered = normalize(DUS_filtering(signal_resample(dus_data,fs,fs_t), fs_t))\n",
    "    \n",
    "    plt.figure(figsize=(14, 8))\n",
    "    \n",
    "    t = np.arange(len(dus_filtered)) / fs_t\n",
    "    \n",
    "    plt.subplot(2, 1, 1)\n",
    "    plt.plot(t[:int(fs_t*3.75)], dus_filtered[:int(fs_t*3.75)], 'b-')\n",
    "    plt.title('Original DUS Signal')\n",
    "    plt.xlabel('Time (s)')\n",
    "    plt.ylabel('Amplitude')\n",
    "    plt.grid(True)\n",
    "    \n",
    "    plt.subplot(2, 1, 2)\n",
    "    plt.plot(t[:int(fs_t*3.75)], dus_filtered[:int(fs_t*3.75)], 'r-')\n",
    "    plt.title('Filtered DUS Signal')\n",
    "    plt.xlabel('Time (s)')\n",
    "    plt.ylabel('Amplitude')\n",
    "    plt.grid(True)\n",
    "    \n",
    "    plt.tight_layout()\n",
    "    plt.show()\n",
    "    \n",
    "    # Play the filtered audio\n",
    "    print(\"\\nPlaying filtered audio:\")\n",
    "    Audio(data=dus_filtered.astype(np.int16), rate=fs)"
   ]
  },
  {
   "cell_type": "markdown",
   "metadata": {},
   "source": [
    "## Creating and Visualizing Scalograms\n",
    "\n",
    "Create and plot scalograms of the DUS signal to visualize frequency components over time."
   ]
  },
  {
   "cell_type": "code",
   "execution_count": null,
   "metadata": {},
   "outputs": [],
   "source": [
    "# Create scalogram for visualization\n",
    "if 'dus_filtered' in locals() and dus_filtered is not None:\n",
    "    signal_segment = dus_filtered\n",
    "    time_bins = 1000 \n",
    "    freq_bins = 40    \n",
    "    \n",
    "    # Create the scalogram\n",
    "    scalogram = create_scalogram(signal_segment, fs_t, time_bins, freq_bins)\n",
    "\n",
    "    scales = np.arange(1, freq_bins + 1)\n",
    "    fc = pywt.central_frequency('morl')\n",
    "    frequencies = fc * fs_t / scales\n",
    "    \n",
    "    t = np.linspace(0, 3.75, time_bins)\n",
    "    \n",
    "    # Plot the scalogram using our custom function\n",
    "    fig, axes = plot_scalogram(\n",
    "        scalogram=scalogram,\n",
    "        times=t,\n",
    "        frequencies=frequencies,\n",
    "        dus_signal=signal_segment,\n",
    "        estimated = np.load(os.path.join(data_dir,'output_3.npy')),\n",
    "        fs=fs_t,\n",
    "        figsize=(12, 6),\n",
    "        title=f\"Scalogram of DUS Signal from {wav_files[0]}\",\n",
    "        cmap='plasma'\n",
    "    )\n",
    "    \n",
    "    plt.show()"
   ]
  },
  {
   "cell_type": "markdown",
   "metadata": {},
   "source": [
    "## Batch Processing of All WAV Files\n",
    "\n",
    "Let's process all the WAV files in the data directory, create scalograms, and save the results."
   ]
  },
  {
   "cell_type": "code",
   "execution_count": 15,
   "metadata": {},
   "outputs": [],
   "source": [
    "def process_wav_file(file_path, fs_t=4000, save_dir=\"results\"):\n",
    "    \"\"\"Process a WAV file, create scalogram, and save results\"\"\"\n",
    "    # Create save directory if it doesn't exist\n",
    "    os.makedirs(save_dir, exist_ok=True)\n",
    "    \n",
    "    # Get filename without extension\n",
    "    filename = os.path.splitext(os.path.basename(file_path))[0]\n",
    "    \n",
    "    # Load WAV file\n",
    "    fs, dus_data = load_wav_file(file_path)\n",
    "    \n",
    "    if fs is None or dus_data is None:\n",
    "        return None\n",
    "    \n",
    "    # Convert to mono if stereo\n",
    "    if len(dus_data.shape) > 1 and dus_data.shape[1] > 1:\n",
    "        dus_data = dus_data[:, 0]  \n",
    "    \n",
    "    dus_filtered = normalize(DUS_filtering(signal_resample(dus_data,fs,fs_t), fs_t))\n",
    "    \n",
    "    segment_length = min(fs_t * 3.75, len(dus_filtered)) \n",
    "    signal_segment = dus_filtered\n",
    "    \n",
    "    # Create scalogram\n",
    "    time_bins = 1000\n",
    "    freq_bins = 40\n",
    "    scalogram = create_scalogram(signal_segment, fs_t, time_bins, freq_bins)\n",
    "    \n",
    "    # Calculate frequency range\n",
    "    scales = np.arange(1, freq_bins + 1)\n",
    "    fc = pywt.central_frequency('morl')\n",
    "    frequencies = fc * fs_t / scales\n",
    "    \n",
    "    t = np.linspace(0, len(signal_segment)/fs_t, time_bins) \n",
    "    \n",
    "    # Plot and save the scalogram\n",
    "    fig, axes = plot_scalogram(\n",
    "        scalogram=scalogram,\n",
    "        times=t,\n",
    "        frequencies=frequencies,\n",
    "        dus_signal=signal_segment,\n",
    "        fs=fs_t,\n",
    "        figsize=(12, 6),\n",
    "        title=f\"Scalogram of DUS Signal from {filename}\",\n",
    "        save_path=os.path.join(save_dir, f\"{filename}_scalogram.png\"),\n",
    "        cmap='plasma'\n",
    "    )\n",
    "    \n",
    "    plt.close(fig)  # Close the figure to avoid displaying\n",
    "    \n",
    "    # Save the processed data\n",
    "    np.savez(\n",
    "        os.path.join(save_dir, f\"{filename}_processed.npz\"),\n",
    "        dus_original=dus_data,\n",
    "        dus_filtered=dus_filtered,\n",
    "        scalogram=scalogram,\n",
    "        frequencies=frequencies,\n",
    "        fs=fs_t\n",
    "    )\n",
    "    \n",
    "    return {\n",
    "        'filename': filename,\n",
    "        'fs': fs_t,\n",
    "        'duration': len(dus_data) / fs,\n",
    "        'scalogram_shape': scalogram.shape\n",
    "    }"
   ]
  },
  {
   "cell_type": "code",
   "execution_count": 16,
   "metadata": {},
   "outputs": [],
   "source": [
    "# Process all WAV files\n",
    "results = []\n",
    "for wav_file in wav_files:\n",
    "    file_path = os.path.join(data_dir, wav_file)\n",
    "    print(f\"\\nProcessing {wav_file}...\")\n",
    "    result = process_wav_file(file_path)\n",
    "    if result is not None:\n",
    "        results.append(result)\n",
    "        print(f\"Processed {wav_file} successfully.\")\n",
    "\n",
    "# Display summary\n",
    "print(\"\\nProcessing Summary:\")\n",
    "for result in results:\n",
    "    print(f\"- {result['filename']}: Duration={result['duration']:.2f}s, FS={result['fs']}Hz, Scalogram Shape={result['scalogram_shape']}\")"
   ]
  }
 ],
 "metadata": {
  "kernelspec": {
   "display_name": "base",
   "language": "python",
   "name": "python3"
  },
  "language_info": {
   "codemirror_mode": {
    "name": "ipython",
    "version": 3
   },
   "file_extension": ".py",
   "mimetype": "text/x-python",
   "name": "python",
   "nbconvert_exporter": "python",
   "pygments_lexer": "ipython3",
   "version": "3.10.12"
  }
 },
 "nbformat": 4,
 "nbformat_minor": 4
}
